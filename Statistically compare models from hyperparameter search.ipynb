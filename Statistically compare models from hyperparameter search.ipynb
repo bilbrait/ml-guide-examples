{
 "cells": [
  {
   "cell_type": "markdown",
   "id": "20e57dcd",
   "metadata": {},
   "source": [
    "# Statistical comparison of hyperparameter searched models with Bayesian Analysis\n",
    "\n",
    "This tutorial is adopted from: https://scikit-learn.org/stable/auto_examples/model_selection/plot_grid_search_stats.html#sphx-glr-auto-examples-model-selection-plot-grid-search-stats-py\n",
    "\n",
    "This short tutorial showcases on comparing statistical models using Bayesian analysis. Relying solely on arbitrary metrics, such as accuracy, probability of error or ROC AUC, does not give enough information on which model is better on a given data set or problem. The reason being that the models are applied and tested on the **same dataset**.\n",
    "\n",
    "This tutorial shows on applying Grid, Randomized and Adaptive search on the Iris data set, using Support Vector machine and Logistic regression. After searching for a range of different hyperparameters, a Bayesian analysis is applied, afterwhich we examine the parameters of the models using cooperative game theory."
   ]
  },
  {
   "cell_type": "code",
   "execution_count": 1,
   "id": "bc4aac83",
   "metadata": {},
   "outputs": [],
   "source": [
    "%matplotlib inline\n",
    "import numpy as np\n",
    "import scipy.stats as stats\n",
    "from scipy.stats import t\n",
    "import matplotlib.pyplot as plt\n",
    "import seaborn as sns\n",
    "import pandas as pd\n",
    "import pickle\n",
    "from itertools import combinations\n",
    "from math import factorial\n",
    "\n",
    "from skopt import BayesSearchCV\n",
    "from sklearn.datasets import load_iris\n",
    "from sklearn.model_selection import train_test_split\n",
    "from sklearn.metrics import confusion_matrix, plot_confusion_matrix\n",
    "from sklearn.preprocessing import StandardScaler\n",
    "from sklearn.model_selection import GridSearchCV, RandomizedSearchCV, RepeatedStratifiedKFold\n",
    "from sklearn.svm import SVC\n",
    "from sklearn.linear_model import LogisticRegression\n",
    "import shap\n",
    "from alibi.explainers import KernelShap\n",
    "\n",
    "\n",
    "import warnings\n",
    "warnings.simplefilter(\"ignore\", UserWarning)"
   ]
  },
  {
   "cell_type": "code",
   "execution_count": 2,
   "id": "b21f5e27",
   "metadata": {},
   "outputs": [],
   "source": [
    "def get_hyperparameter_scores( search ):\n",
    "    results_df = pd.DataFrame(search.cv_results_)\n",
    "    results_df = results_df.sort_values(by=[\"rank_test_score\"])\n",
    "    results_df = results_df.set_index(\n",
    "        results_df[\"params\"].apply(lambda x: \"_\".join(str(val) for val in x.values()))\n",
    "    ).rename_axis(\"kernel\")\n",
    "    \n",
    "    return results_df[[\"params\", \"rank_test_score\", \"mean_test_score\", \"std_test_score\"]]"
   ]
  },
  {
   "cell_type": "code",
   "execution_count": 3,
   "id": "c2ae5083",
   "metadata": {},
   "outputs": [],
   "source": [
    "iris = load_iris()\n",
    "X, y = load_iris( return_X_y = True )\n",
    "\n",
    "scaler   = StandardScaler().fit( X )\n",
    "X_normed = scaler.transform( X )\n",
    "Xtrain, Xtest, ytrain, ytest = train_test_split( X_normed, y, train_size = 0.75, test_size = .25, random_state = 0 )\n",
    "\n",
    "cv = RepeatedStratifiedKFold( n_splits = 10, n_repeats = 10, random_state = 0 ) # A 10x 10-fold cross-validation"
   ]
  },
  {
   "cell_type": "markdown",
   "id": "c1113051",
   "metadata": {},
   "source": [
    "### Setting up models\n",
    "\n",
    "An usual approach in finding hyperparameters for a model on a given dataset is to use sampling methods like cross-validation. The scores obtained from these sampling methods are not independent because these models are searched and evaluated on the same dataset, and the end results depends on the particular fold.\n",
    "\n",
    "Here a statistical approach of Benavoli, A. et al. \"Time for a change: a tutorial for comparing multiple classifiers through Bayesian analysis\". The Journal of Machine Learning Research, 18(1), 2017, will be illustrated in comparing statistical models.\n",
    "\n",
    "First we setup our models."
   ]
  },
  {
   "cell_type": "code",
   "execution_count": 4,
   "id": "142b2f4c",
   "metadata": {},
   "outputs": [
    {
     "name": "stdout",
     "output_type": "stream",
     "text": [
      "params    : OrderedDict([('C', 4.027462393160763), ('degree', 6), ('gamma', 0.0004804379529945286), ('kernel', 'linear')])\n",
      "val. score: 0.9634848484848484\n",
      "test score: 0.9736842105263158\n"
     ]
    }
   ],
   "source": [
    "svc_as = BayesSearchCV(\n",
    "                        SVC(),\n",
    "                        {\n",
    "                            'C': (1e-6, 1e+6, 'log-uniform'),\n",
    "                            'gamma': (1e-6, 1e+1, 'log-uniform'),\n",
    "                            'degree': (1, 8),  # integer valued parameter\n",
    "                            'kernel': ['linear', 'poly', 'rbf'],  # categorical parameter\n",
    "                        },\n",
    "                        n_iter=10,\n",
    "                        cv = cv\n",
    "                     )\n",
    "\n",
    "svc_as.fit( Xtrain, ytrain )\n",
    "\n",
    "print(\"params    : %s\" % svc_as.best_params_)\n",
    "print(\"val. score: %s\" % svc_as.best_score_)\n",
    "print(\"test score: %s\" % svc_as.score(Xtest, ytest))"
   ]
  },
  {
   "cell_type": "code",
   "execution_count": 5,
   "id": "0f1ad307",
   "metadata": {},
   "outputs": [
    {
     "name": "stdout",
     "output_type": "stream",
     "text": [
      "params    : {'C': 0.7668154811273687, 'degree': 6, 'gamma': 0.0017982255363211386, 'kernel': 'linear'}\n",
      "val. score: 0.9572727272727272\n",
      "test score: 0.9736842105263158\n"
     ]
    }
   ],
   "source": [
    "svc_rs = RandomizedSearchCV( \n",
    "                            SVC(), \n",
    "                            {\n",
    "                              'C'     : stats.loguniform(1e-6, 1e+6),\n",
    "                              'gamma' : stats.loguniform(1e-6, 1e+1),\n",
    "                              'degree': stats.randint(1, 8),         \n",
    "                              'kernel': ['linear', 'poly', 'rbf'], \n",
    "                            }, \n",
    "                            n_iter = 10, \n",
    "                            cv = cv, \n",
    "                            n_jobs = 6 )\n",
    "svc_rs.fit( Xtrain, ytrain )\n",
    "\n",
    "print(\"params    : %s\" % svc_rs.best_params_)\n",
    "print(\"val. score: %s\" % svc_rs.best_score_)\n",
    "print(\"test score: %s\" % svc_rs.score(Xtest, ytest))"
   ]
  },
  {
   "cell_type": "code",
   "execution_count": 6,
   "id": "9fc362b0",
   "metadata": {},
   "outputs": [
    {
     "name": "stdout",
     "output_type": "stream",
     "text": [
      "params    : {'C': 0.1, 'degree': 1, 'gamma': 0.0001, 'kernel': 'linear'}\n",
      "val. score: 0.9545454545454544\n",
      "test score: 0.9736842105263158\n"
     ]
    }
   ],
   "source": [
    "svc_gs = GridSearchCV( \n",
    "                       SVC(), \n",
    "                       {\n",
    "                         'C'     : np.power(10, np.arange(-4, 1, dtype=float)),\n",
    "                         'gamma' : np.power(10, np.arange(-4, 1, dtype=float)),\n",
    "                         'degree': np.arange(1, 9, dtype = int ),         \n",
    "                         'kernel': ['linear', 'poly', 'rbf'], \n",
    "                       }, \n",
    "                       cv = cv, \n",
    "                       n_jobs = 6 )\n",
    "\n",
    "svc_gs.fit( Xtrain, ytrain )\n",
    "\n",
    "print(\"params    : %s\" % svc_gs.best_params_)\n",
    "print(\"val. score: %s\" % svc_gs.best_score_)\n",
    "print(\"test score: %s\" % svc_gs.score(Xtest, ytest))"
   ]
  },
  {
   "cell_type": "code",
   "execution_count": 7,
   "id": "c8f02c21",
   "metadata": {},
   "outputs": [
    {
     "name": "stdout",
     "output_type": "stream",
     "text": [
      "params    : OrderedDict([('C', 550976.0395786805), ('max_iter', 268), ('solver', 'saga'), ('tol', 0.0004225554565421113)])\n",
      "val. score: 0.9688636363636363\n",
      "test score: 0.9736842105263158\n"
     ]
    }
   ],
   "source": [
    "lgr_as = BayesSearchCV(\n",
    "                        LogisticRegression(),\n",
    "                        {\n",
    "                            'C': (1e-6, 1e+6, 'log-uniform'),\n",
    "                            'tol': (1e-6, 1e+1, 'log-uniform'),\n",
    "                            'max_iter': (100, 400),  \n",
    "                            'solver': ['sag', 'saga', 'newton-cg'],\n",
    "                        },\n",
    "                        n_iter=10,\n",
    "                        cv = cv\n",
    "                     )\n",
    "\n",
    "lgr_as.fit( Xtrain, ytrain )\n",
    "\n",
    "print(\"params    : %s\" % lgr_as.best_params_)\n",
    "print(\"val. score: %s\" % lgr_as.best_score_)\n",
    "print(\"test score: %s\" % lgr_as.score(Xtest, ytest))"
   ]
  },
  {
   "cell_type": "code",
   "execution_count": null,
   "id": "5faebe1a",
   "metadata": {},
   "outputs": [],
   "source": [
    "lgr_rs = RandomizedSearchCV(\n",
    "                        LogisticRegression(),\n",
    "                        {\n",
    "                            'C':   stats.loguniform(1e-6, 1e+6),\n",
    "                            'tol': stats.loguniform(1e-6, 1e+6),\n",
    "                            'max_iter': stats.randint(100, 400),  # integer valued parameter\n",
    "                            'solver': ['sag', 'saga', 'newton-cg'],  # categorical parameter\n",
    "                        },\n",
    "                        n_iter=10,\n",
    "                        cv = cv\n",
    "                     )\n",
    "\n",
    "lgr_rs.fit(Xtrain, ytrain)\n",
    "\n",
    "print(\"params    : %s\" % lgr_rs.best_params_)\n",
    "print(\"val. score: %s\" % lgr_rs.best_score_)\n",
    "print(\"test score: %s\" % lgr_rs.score(Xtest, ytest))"
   ]
  },
  {
   "cell_type": "code",
   "execution_count": 9,
   "id": "fd3a95df",
   "metadata": {},
   "outputs": [
    {
     "name": "stdout",
     "output_type": "stream",
     "text": [
      "params    : {'C': 1.0, 'max_iter': 300, 'solver': 'sag', 'tol': 0.1}\n",
      "val. score: 0.9570454545454544\n",
      "test score: 0.9736842105263158\n"
     ]
    }
   ],
   "source": [
    "lgr_gs = GridSearchCV(\n",
    "                        LogisticRegression(),\n",
    "                        {\n",
    "                            'C'       : np.power(10, np.arange(-4, 1, dtype=float)),\n",
    "                            'tol'     : np.power(10, np.arange(-4, 1, dtype=float)),\n",
    "                            'max_iter': np.arange(100, 450, 50, dtype = int ),  # integer valued parameter\n",
    "                            'solver': ['sag', 'saga', 'newton-cg'],  # categorical parameter\n",
    "                        },\n",
    "                        cv = cv\n",
    "                     )\n",
    "\n",
    "lgr_gs.fit(Xtrain, ytrain)\n",
    "\n",
    "print(\"params    : %s\" % lgr_gs.best_params_)\n",
    "print(\"val. score: %s\" % lgr_gs.best_score_)\n",
    "print(\"test score: %s\" % lgr_gs.score(Xtest, ytest))"
   ]
  },
  {
   "cell_type": "code",
   "execution_count": 10,
   "id": "a23ed0ee",
   "metadata": {},
   "outputs": [
    {
     "data": {
      "text/html": [
       "<div>\n",
       "<style scoped>\n",
       "    .dataframe tbody tr th:only-of-type {\n",
       "        vertical-align: middle;\n",
       "    }\n",
       "\n",
       "    .dataframe tbody tr th {\n",
       "        vertical-align: top;\n",
       "    }\n",
       "\n",
       "    .dataframe thead th {\n",
       "        text-align: right;\n",
       "    }\n",
       "</style>\n",
       "<table border=\"1\" class=\"dataframe\">\n",
       "  <thead>\n",
       "    <tr style=\"text-align: right;\">\n",
       "      <th></th>\n",
       "      <th>params</th>\n",
       "      <th>rank_test_score</th>\n",
       "      <th>mean_test_score</th>\n",
       "      <th>std_test_score</th>\n",
       "    </tr>\n",
       "    <tr>\n",
       "      <th>kernel</th>\n",
       "      <th></th>\n",
       "      <th></th>\n",
       "      <th></th>\n",
       "      <th></th>\n",
       "    </tr>\n",
       "  </thead>\n",
       "  <tbody>\n",
       "    <tr>\n",
       "      <th>SVC-GS</th>\n",
       "      <td>{'C': 0.1, 'degree': 6, 'gamma': 0.1, 'kernel'...</td>\n",
       "      <td>1</td>\n",
       "      <td>0.954545</td>\n",
       "      <td>0.054123</td>\n",
       "    </tr>\n",
       "    <tr>\n",
       "      <th>SVC-RS</th>\n",
       "      <td>{'C': 0.7668154811273687, 'degree': 6, 'gamma'...</td>\n",
       "      <td>1</td>\n",
       "      <td>0.957273</td>\n",
       "      <td>0.054054</td>\n",
       "    </tr>\n",
       "    <tr>\n",
       "      <th>SVC-AS</th>\n",
       "      <td>{'C': 4.027462393160763, 'degree': 6, 'gamma':...</td>\n",
       "      <td>1</td>\n",
       "      <td>0.963485</td>\n",
       "      <td>0.052183</td>\n",
       "    </tr>\n",
       "  </tbody>\n",
       "</table>\n",
       "</div>"
      ],
      "text/plain": [
       "                                                   params  rank_test_score  \\\n",
       "kernel                                                                       \n",
       "SVC-GS  {'C': 0.1, 'degree': 6, 'gamma': 0.1, 'kernel'...                1   \n",
       "SVC-RS  {'C': 0.7668154811273687, 'degree': 6, 'gamma'...                1   \n",
       "SVC-AS  {'C': 4.027462393160763, 'degree': 6, 'gamma':...                1   \n",
       "\n",
       "        mean_test_score  std_test_score  \n",
       "kernel                                   \n",
       "SVC-GS         0.954545        0.054123  \n",
       "SVC-RS         0.957273        0.054054  \n",
       "SVC-AS         0.963485        0.052183  "
      ]
     },
     "execution_count": 10,
     "metadata": {},
     "output_type": "execute_result"
    }
   ],
   "source": [
    "svc_gs_df = get_hyperparameter_scores( svc_gs )\n",
    "svc_rs_df = get_hyperparameter_scores( svc_rs )\n",
    "svc_as_df = get_hyperparameter_scores( svc_as )\n",
    "\n",
    "svc_scores = pd.concat( [ svc_gs_df.head( 1 ), svc_rs_df.head( 1 ), svc_as_df.head( 1 ) ] )\n",
    "\n",
    "svc_scores.rename( index = { svc_scores.index[ 0 ]: 'SVC-GS', \n",
    "                             svc_scores.index[ 1 ]: 'SVC-RS',\n",
    "                             svc_scores.index[ 2 ]: 'SVC-AS'\n",
    "                           } \n",
    "                  ,inplace = True \n",
    "                 )\n",
    "\n",
    "svc_scores.head()"
   ]
  },
  {
   "cell_type": "code",
   "execution_count": 11,
   "id": "b988c4ba",
   "metadata": {},
   "outputs": [
    {
     "data": {
      "text/html": [
       "<div>\n",
       "<style scoped>\n",
       "    .dataframe tbody tr th:only-of-type {\n",
       "        vertical-align: middle;\n",
       "    }\n",
       "\n",
       "    .dataframe tbody tr th {\n",
       "        vertical-align: top;\n",
       "    }\n",
       "\n",
       "    .dataframe thead th {\n",
       "        text-align: right;\n",
       "    }\n",
       "</style>\n",
       "<table border=\"1\" class=\"dataframe\">\n",
       "  <thead>\n",
       "    <tr style=\"text-align: right;\">\n",
       "      <th></th>\n",
       "      <th>params</th>\n",
       "      <th>rank_test_score</th>\n",
       "      <th>mean_test_score</th>\n",
       "      <th>std_test_score</th>\n",
       "    </tr>\n",
       "    <tr>\n",
       "      <th>kernel</th>\n",
       "      <th></th>\n",
       "      <th></th>\n",
       "      <th></th>\n",
       "      <th></th>\n",
       "    </tr>\n",
       "  </thead>\n",
       "  <tbody>\n",
       "    <tr>\n",
       "      <th>LGR-GS</th>\n",
       "      <td>{'C': 1.0, 'max_iter': 300, 'solver': 'sag', '...</td>\n",
       "      <td>1</td>\n",
       "      <td>0.957045</td>\n",
       "      <td>0.054483</td>\n",
       "    </tr>\n",
       "    <tr>\n",
       "      <th>LGR-RS</th>\n",
       "      <td>{'C': 1.9560076215347661, 'max_iter': 139, 'so...</td>\n",
       "      <td>1</td>\n",
       "      <td>0.953561</td>\n",
       "      <td>0.057142</td>\n",
       "    </tr>\n",
       "    <tr>\n",
       "      <th>LGR-AS</th>\n",
       "      <td>{'C': 550976.0395786805, 'max_iter': 268, 'sol...</td>\n",
       "      <td>1</td>\n",
       "      <td>0.968864</td>\n",
       "      <td>0.049387</td>\n",
       "    </tr>\n",
       "  </tbody>\n",
       "</table>\n",
       "</div>"
      ],
      "text/plain": [
       "                                                   params  rank_test_score  \\\n",
       "kernel                                                                       \n",
       "LGR-GS  {'C': 1.0, 'max_iter': 300, 'solver': 'sag', '...                1   \n",
       "LGR-RS  {'C': 1.9560076215347661, 'max_iter': 139, 'so...                1   \n",
       "LGR-AS  {'C': 550976.0395786805, 'max_iter': 268, 'sol...                1   \n",
       "\n",
       "        mean_test_score  std_test_score  \n",
       "kernel                                   \n",
       "LGR-GS         0.957045        0.054483  \n",
       "LGR-RS         0.953561        0.057142  \n",
       "LGR-AS         0.968864        0.049387  "
      ]
     },
     "execution_count": 11,
     "metadata": {},
     "output_type": "execute_result"
    }
   ],
   "source": [
    "lgr_as_df  = get_hyperparameter_scores( lgr_as )\n",
    "lgr_rs_df  = get_hyperparameter_scores( lgr_rs )\n",
    "lgr_gs_df  = get_hyperparameter_scores( lgr_gs )\n",
    "\n",
    "lgr_scores = pd.concat( [ lgr_gs_df.head( 1 ), lgr_rs_df.head( 1 ), lgr_as_df.head( 1 ) ] )\n",
    "\n",
    "lgr_scores.rename( index = { lgr_scores.index[ 0 ]: 'LGR-GS', \n",
    "                             lgr_scores.index[ 1 ]: 'LGR-RS',\n",
    "                             lgr_scores.index[ 2 ]: 'LGR-AS'\n",
    "                           } \n",
    "                 , inplace = True )\n",
    "lgr_scores.head()"
   ]
  },
  {
   "cell_type": "code",
   "execution_count": 12,
   "id": "483d3930",
   "metadata": {},
   "outputs": [
    {
     "data": {
      "text/html": [
       "<div>\n",
       "<style scoped>\n",
       "    .dataframe tbody tr th:only-of-type {\n",
       "        vertical-align: middle;\n",
       "    }\n",
       "\n",
       "    .dataframe tbody tr th {\n",
       "        vertical-align: top;\n",
       "    }\n",
       "\n",
       "    .dataframe thead th {\n",
       "        text-align: right;\n",
       "    }\n",
       "</style>\n",
       "<table border=\"1\" class=\"dataframe\">\n",
       "  <thead>\n",
       "    <tr style=\"text-align: right;\">\n",
       "      <th></th>\n",
       "      <th>params</th>\n",
       "      <th>rank_test_score</th>\n",
       "      <th>mean_test_score</th>\n",
       "      <th>std_test_score</th>\n",
       "    </tr>\n",
       "    <tr>\n",
       "      <th>kernel</th>\n",
       "      <th></th>\n",
       "      <th></th>\n",
       "      <th></th>\n",
       "      <th></th>\n",
       "    </tr>\n",
       "  </thead>\n",
       "  <tbody>\n",
       "    <tr>\n",
       "      <th>SVC-GS</th>\n",
       "      <td>{'C': 0.1, 'degree': 6, 'gamma': 0.1, 'kernel'...</td>\n",
       "      <td>1</td>\n",
       "      <td>0.954545</td>\n",
       "      <td>0.054123</td>\n",
       "    </tr>\n",
       "    <tr>\n",
       "      <th>SVC-RS</th>\n",
       "      <td>{'C': 0.7668154811273687, 'degree': 6, 'gamma'...</td>\n",
       "      <td>1</td>\n",
       "      <td>0.957273</td>\n",
       "      <td>0.054054</td>\n",
       "    </tr>\n",
       "    <tr>\n",
       "      <th>SVC-AS</th>\n",
       "      <td>{'C': 4.027462393160763, 'degree': 6, 'gamma':...</td>\n",
       "      <td>1</td>\n",
       "      <td>0.963485</td>\n",
       "      <td>0.052183</td>\n",
       "    </tr>\n",
       "    <tr>\n",
       "      <th>LGR-GS</th>\n",
       "      <td>{'C': 1.0, 'max_iter': 300, 'solver': 'sag', '...</td>\n",
       "      <td>1</td>\n",
       "      <td>0.957045</td>\n",
       "      <td>0.054483</td>\n",
       "    </tr>\n",
       "    <tr>\n",
       "      <th>LGR-RS</th>\n",
       "      <td>{'C': 1.9560076215347661, 'max_iter': 139, 'so...</td>\n",
       "      <td>1</td>\n",
       "      <td>0.953561</td>\n",
       "      <td>0.057142</td>\n",
       "    </tr>\n",
       "    <tr>\n",
       "      <th>LGR-AS</th>\n",
       "      <td>{'C': 550976.0395786805, 'max_iter': 268, 'sol...</td>\n",
       "      <td>1</td>\n",
       "      <td>0.968864</td>\n",
       "      <td>0.049387</td>\n",
       "    </tr>\n",
       "  </tbody>\n",
       "</table>\n",
       "</div>"
      ],
      "text/plain": [
       "                                                   params  rank_test_score  \\\n",
       "kernel                                                                       \n",
       "SVC-GS  {'C': 0.1, 'degree': 6, 'gamma': 0.1, 'kernel'...                1   \n",
       "SVC-RS  {'C': 0.7668154811273687, 'degree': 6, 'gamma'...                1   \n",
       "SVC-AS  {'C': 4.027462393160763, 'degree': 6, 'gamma':...                1   \n",
       "LGR-GS  {'C': 1.0, 'max_iter': 300, 'solver': 'sag', '...                1   \n",
       "LGR-RS  {'C': 1.9560076215347661, 'max_iter': 139, 'so...                1   \n",
       "LGR-AS  {'C': 550976.0395786805, 'max_iter': 268, 'sol...                1   \n",
       "\n",
       "        mean_test_score  std_test_score  \n",
       "kernel                                   \n",
       "SVC-GS         0.954545        0.054123  \n",
       "SVC-RS         0.957273        0.054054  \n",
       "SVC-AS         0.963485        0.052183  \n",
       "LGR-GS         0.957045        0.054483  \n",
       "LGR-RS         0.953561        0.057142  \n",
       "LGR-AS         0.968864        0.049387  "
      ]
     },
     "execution_count": 12,
     "metadata": {},
     "output_type": "execute_result"
    }
   ],
   "source": [
    "result_scores = pd.concat( [ svc_scores, lgr_scores ] )\n",
    "result_scores.head( 10 )"
   ]
  },
  {
   "cell_type": "markdown",
   "id": "0722a8ab",
   "metadata": {},
   "source": [
    "### Bayes analysis on models\n",
    "\n",
    "After we have found the set of hyperparameters, which search strategy provided the best model?\n",
    "\n",
    "Here all models will be evaluated pairwise using Baysian estimation, giving a distribution of mean differences between models. A Normal-Gamma distribution, conjugate to a normal likelihod, is used as a prior for the Bayesian estimation. This allows expressing the resulting posterior distribution as a Gaussian. The variance is removed by marginalizing the Gaussian posterior, which allows us to express the posterior of the mean parameter as a Student's t-distribution.\n",
    "\n",
    "To evaluate do models perform equally, worse or better, a *region of practical equivalence* is defined. The region will indicate how well the models compare in performance. As an example, if we set the region to 1\\%, then the compared models will be considered equivalent if their performance differ less than 1\\%. \n",
    "\n",
    "We will use the 1\\% region threshold in the model comparison."
   ]
  },
  {
   "cell_type": "code",
   "execution_count": 13,
   "id": "6f5e0c59",
   "metadata": {},
   "outputs": [],
   "source": [
    "a             = 0.01\n",
    "rope_interval = [-a, a]\n",
    "\n",
    "n_train = len(list(cv.split(Xtrain, ytrain))[0][0])\n",
    "n_test  = len(list(cv.split(Xtrain, ytrain))[0][1])"
   ]
  },
  {
   "cell_type": "code",
   "execution_count": 14,
   "id": "7d33c4da",
   "metadata": {},
   "outputs": [],
   "source": [
    "def corrected_std(differences, n_train, n_test):\n",
    "    \"\"\"Corrects standard deviation using Nadeau and Bengio's approach.\n",
    "\n",
    "    Parameters\n",
    "    ----------\n",
    "    differences : ndarray of shape (n_samples,)\n",
    "        Vector containing the differences in the score metrics of two models.\n",
    "    n_train : int\n",
    "        Number of samples in the training set.\n",
    "    n_test : int\n",
    "        Number of samples in the testing set.\n",
    "\n",
    "    Returns\n",
    "    -------\n",
    "    corrected_std : float\n",
    "        Variance-corrected standard deviation of the set of differences.\n",
    "    \"\"\"\n",
    "    # kr = k times r, r times repeated k-fold crossvalidation,\n",
    "    # kr equals the number of times the model was evaluated\n",
    "    kr = len(differences)\n",
    "    corrected_var = np.var(differences, ddof=1) * (1 / kr + n_test / n_train)\n",
    "    corrected_std = np.sqrt(corrected_var)\n",
    "    return corrected_std"
   ]
  },
  {
   "cell_type": "code",
   "execution_count": 15,
   "id": "549a2e85",
   "metadata": {},
   "outputs": [
    {
     "data": {
      "text/html": [
       "<div>\n",
       "<style scoped>\n",
       "    .dataframe tbody tr th:only-of-type {\n",
       "        vertical-align: middle;\n",
       "    }\n",
       "\n",
       "    .dataframe tbody tr th {\n",
       "        vertical-align: top;\n",
       "    }\n",
       "\n",
       "    .dataframe thead th {\n",
       "        text-align: right;\n",
       "    }\n",
       "</style>\n",
       "<table border=\"1\" class=\"dataframe\">\n",
       "  <thead>\n",
       "    <tr style=\"text-align: right;\">\n",
       "      <th></th>\n",
       "      <th>mean_test_score</th>\n",
       "      <th>std_test_score</th>\n",
       "    </tr>\n",
       "    <tr>\n",
       "      <th>kernel</th>\n",
       "      <th></th>\n",
       "      <th></th>\n",
       "    </tr>\n",
       "  </thead>\n",
       "  <tbody>\n",
       "    <tr>\n",
       "      <th>SVC-GS</th>\n",
       "      <td>0.954545</td>\n",
       "      <td>0.054123</td>\n",
       "    </tr>\n",
       "    <tr>\n",
       "      <th>SVC-RS</th>\n",
       "      <td>0.957273</td>\n",
       "      <td>0.054054</td>\n",
       "    </tr>\n",
       "    <tr>\n",
       "      <th>SVC-AS</th>\n",
       "      <td>0.963485</td>\n",
       "      <td>0.052183</td>\n",
       "    </tr>\n",
       "    <tr>\n",
       "      <th>LGR-GS</th>\n",
       "      <td>0.957045</td>\n",
       "      <td>0.054483</td>\n",
       "    </tr>\n",
       "    <tr>\n",
       "      <th>LGR-RS</th>\n",
       "      <td>0.953561</td>\n",
       "      <td>0.057142</td>\n",
       "    </tr>\n",
       "    <tr>\n",
       "      <th>LGR-AS</th>\n",
       "      <td>0.968864</td>\n",
       "      <td>0.049387</td>\n",
       "    </tr>\n",
       "  </tbody>\n",
       "</table>\n",
       "</div>"
      ],
      "text/plain": [
       "        mean_test_score  std_test_score\n",
       "kernel                                 \n",
       "SVC-GS         0.954545        0.054123\n",
       "SVC-RS         0.957273        0.054054\n",
       "SVC-AS         0.963485        0.052183\n",
       "LGR-GS         0.957045        0.054483\n",
       "LGR-RS         0.953561        0.057142\n",
       "LGR-AS         0.968864        0.049387"
      ]
     },
     "execution_count": 15,
     "metadata": {},
     "output_type": "execute_result"
    }
   ],
   "source": [
    "model_scores = result_scores.copy()\n",
    "model_scores = model_scores[ [ 'mean_test_score', 'std_test_score' ] ]\n",
    "model_scores.head( 10 )"
   ]
  },
  {
   "cell_type": "code",
   "execution_count": 16,
   "id": "9d398633",
   "metadata": {},
   "outputs": [],
   "source": [
    "pairwise_bayesian = []\n",
    "\n",
    "for model_i, model_k in combinations(range(len(model_scores)), 2):\n",
    "    model_i_scores = model_scores.iloc[model_i].values\n",
    "    model_k_scores = model_scores.iloc[model_k].values\n",
    "    differences = model_i_scores - model_k_scores\n",
    "    t_post = t(\n",
    "        differences.shape[ 0 ] - 1, loc=np.mean(differences), scale=corrected_std(differences, n_train, n_test)\n",
    "    )\n",
    "    worse_prob = t_post.cdf(rope_interval[0])\n",
    "    better_prob = 1 - t_post.cdf(rope_interval[1])\n",
    "    rope_prob = t_post.cdf(rope_interval[1]) - t_post.cdf(rope_interval[0])\n",
    "\n",
    "    pairwise_bayesian.append([model_scores.index[model_i], model_scores.index[model_k],\n",
    "                              worse_prob, better_prob, rope_prob])\n",
    "\n",
    "pairwise_bayesian_df = pd.DataFrame(\n",
    "    pairwise_bayesian, columns=[ \"model_1\", \"model_2\", \"worse_prob\", \"better_prob\", \"rope_prob\"]\n",
    ").round(3)"
   ]
  },
  {
   "cell_type": "code",
   "execution_count": 17,
   "id": "05f8a2d3",
   "metadata": {},
   "outputs": [
    {
     "data": {
      "text/html": [
       "<div>\n",
       "<style scoped>\n",
       "    .dataframe tbody tr th:only-of-type {\n",
       "        vertical-align: middle;\n",
       "    }\n",
       "\n",
       "    .dataframe tbody tr th {\n",
       "        vertical-align: top;\n",
       "    }\n",
       "\n",
       "    .dataframe thead th {\n",
       "        text-align: right;\n",
       "    }\n",
       "</style>\n",
       "<table border=\"1\" class=\"dataframe\">\n",
       "  <thead>\n",
       "    <tr style=\"text-align: right;\">\n",
       "      <th></th>\n",
       "      <th>model_1</th>\n",
       "      <th>model_2</th>\n",
       "      <th>worse_prob</th>\n",
       "      <th>better_prob</th>\n",
       "      <th>rope_prob</th>\n",
       "    </tr>\n",
       "  </thead>\n",
       "  <tbody>\n",
       "    <tr>\n",
       "      <th>10</th>\n",
       "      <td>SVC-AS</td>\n",
       "      <td>LGR-RS</td>\n",
       "      <td>0.187</td>\n",
       "      <td>0.265</td>\n",
       "      <td>0.548</td>\n",
       "    </tr>\n",
       "    <tr>\n",
       "      <th>14</th>\n",
       "      <td>LGR-RS</td>\n",
       "      <td>LGR-AS</td>\n",
       "      <td>0.356</td>\n",
       "      <td>0.239</td>\n",
       "      <td>0.405</td>\n",
       "    </tr>\n",
       "    <tr>\n",
       "      <th>4</th>\n",
       "      <td>SVC-GS</td>\n",
       "      <td>LGR-AS</td>\n",
       "      <td>0.355</td>\n",
       "      <td>0.198</td>\n",
       "      <td>0.447</td>\n",
       "    </tr>\n",
       "    <tr>\n",
       "      <th>13</th>\n",
       "      <td>LGR-GS</td>\n",
       "      <td>LGR-AS</td>\n",
       "      <td>0.305</td>\n",
       "      <td>0.195</td>\n",
       "      <td>0.500</td>\n",
       "    </tr>\n",
       "    <tr>\n",
       "      <th>8</th>\n",
       "      <td>SVC-RS</td>\n",
       "      <td>LGR-AS</td>\n",
       "      <td>0.301</td>\n",
       "      <td>0.188</td>\n",
       "      <td>0.511</td>\n",
       "    </tr>\n",
       "    <tr>\n",
       "      <th>9</th>\n",
       "      <td>SVC-AS</td>\n",
       "      <td>LGR-GS</td>\n",
       "      <td>0.122</td>\n",
       "      <td>0.175</td>\n",
       "      <td>0.703</td>\n",
       "    </tr>\n",
       "    <tr>\n",
       "      <th>1</th>\n",
       "      <td>SVC-GS</td>\n",
       "      <td>SVC-AS</td>\n",
       "      <td>0.239</td>\n",
       "      <td>0.134</td>\n",
       "      <td>0.627</td>\n",
       "    </tr>\n",
       "    <tr>\n",
       "      <th>11</th>\n",
       "      <td>SVC-AS</td>\n",
       "      <td>LGR-AS</td>\n",
       "      <td>0.153</td>\n",
       "      <td>0.122</td>\n",
       "      <td>0.725</td>\n",
       "    </tr>\n",
       "    <tr>\n",
       "      <th>7</th>\n",
       "      <td>SVC-RS</td>\n",
       "      <td>LGR-RS</td>\n",
       "      <td>0.112</td>\n",
       "      <td>0.119</td>\n",
       "      <td>0.769</td>\n",
       "    </tr>\n",
       "    <tr>\n",
       "      <th>5</th>\n",
       "      <td>SVC-RS</td>\n",
       "      <td>SVC-AS</td>\n",
       "      <td>0.166</td>\n",
       "      <td>0.113</td>\n",
       "      <td>0.721</td>\n",
       "    </tr>\n",
       "    <tr>\n",
       "      <th>12</th>\n",
       "      <td>LGR-GS</td>\n",
       "      <td>LGR-RS</td>\n",
       "      <td>0.101</td>\n",
       "      <td>0.109</td>\n",
       "      <td>0.790</td>\n",
       "    </tr>\n",
       "    <tr>\n",
       "      <th>3</th>\n",
       "      <td>SVC-GS</td>\n",
       "      <td>LGR-RS</td>\n",
       "      <td>0.077</td>\n",
       "      <td>0.064</td>\n",
       "      <td>0.859</td>\n",
       "    </tr>\n",
       "    <tr>\n",
       "      <th>0</th>\n",
       "      <td>SVC-GS</td>\n",
       "      <td>SVC-RS</td>\n",
       "      <td>0.057</td>\n",
       "      <td>0.043</td>\n",
       "      <td>0.900</td>\n",
       "    </tr>\n",
       "    <tr>\n",
       "      <th>2</th>\n",
       "      <td>SVC-GS</td>\n",
       "      <td>LGR-GS</td>\n",
       "      <td>0.044</td>\n",
       "      <td>0.033</td>\n",
       "      <td>0.923</td>\n",
       "    </tr>\n",
       "    <tr>\n",
       "      <th>6</th>\n",
       "      <td>SVC-RS</td>\n",
       "      <td>LGR-GS</td>\n",
       "      <td>0.012</td>\n",
       "      <td>0.012</td>\n",
       "      <td>0.977</td>\n",
       "    </tr>\n",
       "  </tbody>\n",
       "</table>\n",
       "</div>"
      ],
      "text/plain": [
       "   model_1 model_2  worse_prob  better_prob  rope_prob\n",
       "10  SVC-AS  LGR-RS       0.187        0.265      0.548\n",
       "14  LGR-RS  LGR-AS       0.356        0.239      0.405\n",
       "4   SVC-GS  LGR-AS       0.355        0.198      0.447\n",
       "13  LGR-GS  LGR-AS       0.305        0.195      0.500\n",
       "8   SVC-RS  LGR-AS       0.301        0.188      0.511\n",
       "9   SVC-AS  LGR-GS       0.122        0.175      0.703\n",
       "1   SVC-GS  SVC-AS       0.239        0.134      0.627\n",
       "11  SVC-AS  LGR-AS       0.153        0.122      0.725\n",
       "7   SVC-RS  LGR-RS       0.112        0.119      0.769\n",
       "5   SVC-RS  SVC-AS       0.166        0.113      0.721\n",
       "12  LGR-GS  LGR-RS       0.101        0.109      0.790\n",
       "3   SVC-GS  LGR-RS       0.077        0.064      0.859\n",
       "0   SVC-GS  SVC-RS       0.057        0.043      0.900\n",
       "2   SVC-GS  LGR-GS       0.044        0.033      0.923\n",
       "6   SVC-RS  LGR-GS       0.012        0.012      0.977"
      ]
     },
     "execution_count": 17,
     "metadata": {},
     "output_type": "execute_result"
    }
   ],
   "source": [
    "pairwise_bayesian_df.sort_values( by = [ 'better_prob' ], ascending = False )"
   ]
  },
  {
   "cell_type": "markdown",
   "id": "b5c62c1f",
   "metadata": {},
   "source": [
    "### Parameter estimation\n",
    "\n",
    "The above table is sorted in decreasing order, in terms of better performance in probability. In this dataset, with the set hyperparameters and their ranges, the Support Vector Machine model obtained with adaptive search performed best in probability.\n",
    "\n",
    "However, just observing the classification result is not enough for selecting a suitable statistical model for most problems. This is because most problems you cannot know or compute what is a statistically optimal result. This is the case, for example, in epidemiological studies or medical studies, where there is a large variability in observations. Another thing to consider is the consequences of the classification: metrics used in supervised learning tells us the probability of an estimator *identifying* an unseen input, and not the cost of making a wrong identification. \n",
    "\n",
    "Additionally to obtaining a \"good enough\" classification result, one should also check the parameter values learned by the estimators ( that is, the ranges of the random variables used in doing the classification ). Here we show an exmaple of using cooperative game theory in how features in the dataset affect in classifying the labels."
   ]
  },
  {
   "cell_type": "code",
   "execution_count": 24,
   "id": "756be30a",
   "metadata": {},
   "outputs": [
    {
     "data": {
      "image/png": "[encoded data removed]",
      "text/plain": [
       "<Figure size 432x288 with 2 Axes>"
      ]
     },
     "metadata": {
      "needs_background": "light"
     },
     "output_type": "display_data"
    }
   ],
   "source": [
    "lgr = LogisticRegression( C        = lgr_rs.best_params_[ 'C' ],\n",
    "                          max_iter = lgr_rs.best_params_[ 'max_iter' ],\n",
    "                          solver   = lgr_rs.best_params_[ 'solver' ],\n",
    "                          tol      = lgr_rs.best_params_[ 'tol' ]\n",
    "                        ) \n",
    "lgr.fit( Xtrain, ytrain )\n",
    "\n",
    "y_pred = lgr.predict( Xtest )\n",
    "\n",
    "cm = confusion_matrix( ytest, y_pred )\n",
    "title = 'Confusion matrix for Logistic Regression'\n",
    "disp = plot_confusion_matrix(lgr,\n",
    "                             Xtest,\n",
    "                             ytest,\n",
    "                             display_labels = iris.target_names,\n",
    "                             cmap           = plt.cm.Blues,\n",
    "                             normalize      = None,\n",
    "                            )\n",
    "disp.ax_.set_title( title );"
   ]
  },
  {
   "cell_type": "code",
   "execution_count": 25,
   "id": "2632e806",
   "metadata": {},
   "outputs": [
    {
     "name": "stderr",
     "output_type": "stream",
     "text": [
      "Using 112 background data samples could cause slower run times. Consider using shap.sample(data, K) or shap.kmeans(data, K) to summarize the background as K samples.\n"
     ]
    },
    {
     "data": {
      "application/vnd.jupyter.widget-view+json": {
       "model_id": "2ddb2ae1068c483eb71618ec4e53a9a7",
       "version_major": 2,
       "version_minor": 0
      },
      "text/plain": [
       "  0%|          | 0/38 [00:00<?, ?it/s]"
      ]
     },
     "metadata": {},
     "output_type": "display_data"
    },
    {
     "data": {
      "image/png": "[encoded data removed]",
      "text/plain": [
       "<Figure size 576x223.2 with 1 Axes>"
      ]
     },
     "metadata": {
      "needs_background": "light"
     },
     "output_type": "display_data"
    }
   ],
   "source": [
    "pred_fn = lgr.decision_function\n",
    "np.random.seed( 0 )\n",
    "lgr_exp = KernelShap( pred_fn )\n",
    "lgr_exp.fit( Xtrain )\n",
    "lgr_shap_vals = lgr_exp.explain( Xtest, l1_reg = False )\n",
    "\n",
    "shap.summary_plot( lgr_shap_vals.shap_values, Xtest, iris.feature_names, class_names = iris.target_names )"
   ]
  },
  {
   "cell_type": "code",
   "execution_count": 22,
   "id": "28c2dd10",
   "metadata": {},
   "outputs": [
    {
     "data": {
      "image/png": "[encoded data removed]",
      "text/plain": [
       "<Figure size 432x288 with 2 Axes>"
      ]
     },
     "metadata": {
      "needs_background": "light"
     },
     "output_type": "display_data"
    }
   ],
   "source": [
    "svc = SVC( C      = svc_as.best_params_[ 'C' ],\n",
    "           degree = svc_as.best_params_[ 'degree' ],\n",
    "           gamma  = svc_as.best_params_[ 'gamma' ],\n",
    "           kernel = svc_as.best_params_[ 'kernel' ]\n",
    "         )\n",
    "\n",
    "svc.fit( Xtrain, ytrain )\n",
    "\n",
    "y_pred = svc.predict( Xtest )\n",
    "\n",
    "cm = confusion_matrix( ytest, y_pred )\n",
    "title = 'Confusion matrix for SVM'\n",
    "disp = plot_confusion_matrix(svc,\n",
    "                             Xtest,\n",
    "                             ytest,\n",
    "                             display_labels = iris.target_names,\n",
    "                             cmap           = plt.cm.Blues,\n",
    "                             normalize      = None,\n",
    "                            )\n",
    "disp.ax_.set_title( title );"
   ]
  },
  {
   "cell_type": "code",
   "execution_count": 23,
   "id": "0b02379d",
   "metadata": {},
   "outputs": [
    {
     "name": "stderr",
     "output_type": "stream",
     "text": [
      "Using 112 background data samples could cause slower run times. Consider using shap.sample(data, K) or shap.kmeans(data, K) to summarize the background as K samples.\n"
     ]
    },
    {
     "data": {
      "application/vnd.jupyter.widget-view+json": {
       "model_id": "8c8cf4b53ca0467fab83c71d34f7e6a9",
       "version_major": 2,
       "version_minor": 0
      },
      "text/plain": [
       "  0%|          | 0/38 [00:00<?, ?it/s]"
      ]
     },
     "metadata": {},
     "output_type": "display_data"
    },
    {
     "data": {
      "image/png": "[encoded data removed]",
      "text/plain": [
       "<Figure size 576x223.2 with 1 Axes>"
      ]
     },
     "metadata": {
      "needs_background": "light"
     },
     "output_type": "display_data"
    }
   ],
   "source": [
    "pred_fn = svc.decision_function\n",
    "np.random.seed( 0 )\n",
    "svc_exp = KernelShap( pred_fn )\n",
    "svc_exp.fit( Xtrain )\n",
    "svc_shap_vals = svc_exp.explain( Xtest, l1_reg = False )\n",
    "\n",
    "shap.summary_plot( svc_shap_vals.shap_values, Xtest, iris.feature_names, class_names = iris.target_names )"
   ]
  },
  {
   "cell_type": "markdown",
   "id": "2c97b702",
   "metadata": {},
   "source": [
    "## Summary\n",
    "\n",
    "Model selection should always be estimated statistically, and additionally inspect the learned parameters, before selecting the final model for your problem. Also expert knowledge of the problem at hand should be used as a first step when designing a statistical data analysis experiment. Assumptions of the features/data also should be reflected in the choice of statistical estimator: in the above Iris example, logistic regression has the implicit assumption that features are independent from each other ( arguably not true ). No matter how accurate a logistic regression model you can create, when interpreting the data will cause harm in the long run."
   ]
  }
 ],
 "metadata": {
  "kernelspec": {
   "display_name": "Python 3",
   "language": "python",
   "name": "python3"
  },
  "language_info": {
   "codemirror_mode": {
    "name": "ipython",
    "version": 3
   },
   "file_extension": ".py",
   "mimetype": "text/x-python",
   "name": "python",
   "nbconvert_exporter": "python",
   "pygments_lexer": "ipython3",
   "version": "3.6.8"
  }
 },
 "nbformat": 4,
 "nbformat_minor": 5
}
